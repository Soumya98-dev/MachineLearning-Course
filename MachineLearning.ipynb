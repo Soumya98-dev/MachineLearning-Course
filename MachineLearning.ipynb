{
  "nbformat": 4,
  "nbformat_minor": 0,
  "metadata": {
    "colab": {
      "provenance": []
    },
    "kernelspec": {
      "name": "python3",
      "display_name": "Python 3"
    },
    "language_info": {
      "name": "python"
    }
  },
  "cells": [
    {
      "cell_type": "code",
      "source": [],
      "metadata": {
        "id": "vyxJpD1I7pQR"
      },
      "execution_count": null,
      "outputs": []
    },
    {
      "cell_type": "markdown",
      "source": [
        "# Machine Learning Process\n",
        "\n"
      ],
      "metadata": {
        "id": "78uNOwmL7vtt"
      }
    },
    {
      "cell_type": "code",
      "source": [],
      "metadata": {
        "id": "5ilnwa8e7w61"
      },
      "execution_count": null,
      "outputs": []
    }
  ]
}