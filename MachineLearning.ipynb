{
  "nbformat": 4,
  "nbformat_minor": 0,
  "metadata": {
    "colab": {
      "provenance": [],
      "authorship_tag": "ABX9TyPOoo0zwi5ClCicFU/caBI7",
      "include_colab_link": true
    },
    "kernelspec": {
      "name": "python3",
      "display_name": "Python 3"
    },
    "language_info": {
      "name": "python"
    }
  },
  "cells": [
    {
      "cell_type": "markdown",
      "metadata": {
        "id": "view-in-github",
        "colab_type": "text"
      },
      "source": [
        "<a href=\"https://colab.research.google.com/github/Soumya98-dev/MachineLearning-Course/blob/main/MachineLearning.ipynb\" target=\"_parent\"><img src=\"https://colab.research.google.com/assets/colab-badge.svg\" alt=\"Open In Colab\"/></a>"
      ]
    },
    {
      "cell_type": "code",
      "source": [],
      "metadata": {
        "id": "vyxJpD1I7pQR"
      },
      "execution_count": null,
      "outputs": []
    },
    {
      "cell_type": "markdown",
      "source": [
        "# Overview of machine learning\n",
        "\n",
        "## Supervised\n",
        " - Maps Input(X) to Output(Y)\n",
        " - **Regression**\n",
        "    - Predict a number from infintely many possible outputs\n",
        "\n",
        "- **Classification**\n",
        "    - Predict categories from small number of possible outputs\n",
        "\n",
        "## Unsupervised\n",
        "  - finding something interesting in an unlabeled data\n",
        "  - **Clustering**\n",
        "    - group related stuff together\n",
        "  - Anomaly deterction\n",
        "    - find unusual data points\n",
        "  - Dimensionality reduction\n",
        "    - compress data using fewer numbers\n",
        "\n",
        "# Machine Learning Process\n",
        "\n",
        "## Data- Preprocessing\n",
        "  - Import the data\n",
        "  - Clean the data\n",
        "  - Split into training & test sets\n",
        "\n",
        "## Modelling\n",
        "  - Build the model\n",
        "  - train the model\n",
        "  - make predictions\n",
        "\n",
        "## Evaluation\n",
        "  - Calculate performance metrics\n",
        "  - make a verdict\n",
        "\n",
        "## Training & Test data\n",
        "  From the whole data only 20% of the data from the original dataset we take as a test data\n",
        "  ***Train(80%), Test(20%)***\n",
        "\n",
        "## Feature Scaling\n",
        "  - Always applied to columns; never to data inside a row\n",
        "  - Normalization\n",
        "    - Taking the minimum in the column\n",
        "    - subtracting that minimum from every single value inside that column\n",
        "    - then dividing by the diference between the max & min\n",
        "    - X' = X - X(min) / X(max) - X(min)\n",
        "   - Standardization\n",
        "    - Subtract the avg\n",
        "    - X' = X - meu / sigma\n",
        "\n",
        "## Data Preprocessing\n",
        "  - Importing the libraries\n",
        "  ```py\n",
        "    import numpy as mp\n",
        "    import matplotlib.pyplot as plt\n",
        "    import pandas as pd\n",
        "  ```\n",
        "    - numpy -> arrays\n",
        "    - matplotlib - plot charts\n",
        "    - pandas - create matrix, dependent variable vector ,...\n",
        "  - Importing datset\n",
        "  - features(independent variable) are the columns with which we are going to predict the dependent variable.\n",
        "  - iloc: all the rows\n",
        "    - create a dataframe first\n",
        "      ```py\n",
        "        dataset = pd.read_csv('Data.csv')\n",
        "        # taking all the columns\n",
        "        #iloc is a method in pandas that allows you to select rows and columns in a DataFrame using integer-based indexing\n",
        "        #:, -> from 0 and :-1(excluding -1) -> till last item\n",
        "        # X is only the features(independent variable)\n",
        "        X = dataset.iloc[:, :-1].values\n",
        "        # only the last column(dependent variable)\n",
        "        y = dataset.iloc[:, -1].values\n",
        "      ```\n",
        "  - Taking care of missing data(by mean)\n",
        "  ```py\n",
        "  from sklearn.impute import SimpleImputer\n",
        "  #np.nan : from the numpy package we are using the 'nan' method\n",
        "  #nan method denotes not a number which finds the missing value and replaces with mean\n",
        "  imputer = SimpleImputer(missing_values = np.nan, strategy = 'mean')\n",
        "  #selecting the data using the 'fit' method on which columns we want to take care of missing data\n",
        "  imputer.fit(X[:, 1:3])\n",
        "  #the 'transform' method changes the the columns which we selected using the 'fit' method.\n",
        "  #It also returns the columns.\n",
        "  X[:, 1:3] = imputer.transform(X[:, 1:3])\n",
        "  ```\n",
        "\n",
        "# Regression Model\n",
        "\n",
        "## Linear Regression Model\n",
        "\n",
        "- (Regression Model) Supervised Learning Model, because we are first training a model with a data that has right answers\n",
        "- Any supervised learning model which predicts numbers are a type of regression model(infinetly many possible outputs)\n",
        "- Classification model predicts categories(small no. of possible outputs)\n",
        "\n",
        "-**Training set**: dataset to train the model\n",
        "- x(input variable): feature\n",
        "- y(target variable): target\n",
        "- m(total no of training egs)\n",
        "- (x,y) - single training eg\n",
        "- (x^(i), y^(i)) - i-th training eg; i->specific row in a table\n",
        "- y^(^) - predicted value(prediction)\n",
        "\n",
        "\n",
        "\n",
        "\n",
        "\n",
        "\n",
        "\n"
      ],
      "metadata": {
        "id": "78uNOwmL7vtt"
      }
    },
    {
      "cell_type": "code",
      "source": [
        "import numpy as np\n",
        "x = np.array([1.0,2.0])\n",
        "print(f\"x = {x}\\n\")\n",
        "m = x.shape[0]\n",
        "print(f\"m = {m}\\n\")\n",
        "f = np.zeros(m)\n",
        "print(f\"f = {f}\")"
      ],
      "metadata": {
        "colab": {
          "base_uri": "https://localhost:8080/"
        },
        "id": "ijD9rYoUZjbY",
        "outputId": "88fe4db3-addf-4bd2-cbee-d63e462a70df"
      },
      "execution_count": 5,
      "outputs": [
        {
          "output_type": "stream",
          "name": "stdout",
          "text": [
            "x = [1. 2.]\n",
            "\n",
            "m = 2\n",
            "\n",
            "f = [0. 0.]\n"
          ]
        }
      ]
    },
    {
      "cell_type": "markdown",
      "source": [
        "#Linear Regression with One Variable\n",
        "\n",
        "```f[w,b](x) = w(x) + b```\n"
      ],
      "metadata": {
        "id": "qBQEUkEfdaE2"
      }
    },
    {
      "cell_type": "markdown",
      "source": [
        "##Import the libraries"
      ],
      "metadata": {
        "id": "15FiwDabd-QM"
      }
    },
    {
      "cell_type": "code",
      "source": [
        "import numpy as np\n",
        "import matplotlib.pyplot as plt"
      ],
      "metadata": {
        "id": "TQlpiM3-gQ6z"
      },
      "execution_count": 15,
      "outputs": []
    },
    {
      "cell_type": "markdown",
      "source": [
        "##Define the Training variables/dataset"
      ],
      "metadata": {
        "id": "SYXcJUxZeQia"
      }
    },
    {
      "cell_type": "code",
      "source": [
        "# this is the input(feature)\n",
        "x_train = np.array([1.0,2.0])\n",
        "y_train = np.array([300.0, 400.0])\n",
        "print(x_train)\n",
        "print(y_train)"
      ],
      "metadata": {
        "colab": {
          "base_uri": "https://localhost:8080/"
        },
        "id": "ITQ0EqYbu7JS",
        "outputId": "b791ddd3-f078-4423-c50a-0e43b988e321"
      },
      "execution_count": 9,
      "outputs": [
        {
          "output_type": "stream",
          "name": "stdout",
          "text": [
            "[1. 2.]\n",
            "[300. 400.]\n"
          ]
        }
      ]
    },
    {
      "cell_type": "markdown",
      "source": [
        "##Get the shape of the training variable"
      ],
      "metadata": {
        "id": "uGWInHBOeUTi"
      }
    },
    {
      "cell_type": "code",
      "source": [
        "shape_x = x_train.shape\n",
        "print(shape_x)"
      ],
      "metadata": {
        "colab": {
          "base_uri": "https://localhost:8080/"
        },
        "id": "yPWKq_aWx4wN",
        "outputId": "55611300-f30c-42eb-c826-a769c74af96b"
      },
      "execution_count": 11,
      "outputs": [
        {
          "output_type": "stream",
          "name": "stdout",
          "text": [
            "(2,)\n"
          ]
        }
      ]
    },
    {
      "cell_type": "markdown",
      "source": [
        "##Get the i-th training eg"
      ],
      "metadata": {
        "id": "KFyPw4dqefJL"
      }
    },
    {
      "cell_type": "code",
      "source": [
        "i = 0\n",
        "x_i = x_train[0]\n",
        "y_i = y_train[0]\n",
        "print(x_i, y_i)"
      ],
      "metadata": {
        "colab": {
          "base_uri": "https://localhost:8080/"
        },
        "id": "L2UXA00uyFqK",
        "outputId": "9321cf67-cef5-4fd0-b099-fbbd3fb4ee12"
      },
      "execution_count": 13,
      "outputs": [
        {
          "output_type": "stream",
          "name": "stdout",
          "text": [
            "1.0 300.0\n"
          ]
        }
      ]
    },
    {
      "cell_type": "markdown",
      "source": [
        "##Plotting the training data"
      ],
      "metadata": {
        "id": "6SLassvRexJl"
      }
    },
    {
      "cell_type": "code",
      "source": [
        "plt.scatter(x_train, y_train, marker='x', c='r')\n",
        "plt.ylabel(\"Price in 1000s of $\")\n",
        "plt.xlabel(\"Size\")\n",
        "plt.title(\"Housing Prices\")\n",
        "plt.show()"
      ],
      "metadata": {
        "colab": {
          "base_uri": "https://localhost:8080/",
          "height": 472
        },
        "id": "xoFu3MGgzH0T",
        "outputId": "62951246-3a8e-4a39-8eb4-f671c16e996f"
      },
      "execution_count": 17,
      "outputs": [
        {
          "output_type": "display_data",
          "data": {
            "text/plain": [
              "<Figure size 640x480 with 1 Axes>"
            ],
            "image/png": "[encoded data removed]"
          },
          "metadata": {}
        }
      ]
    },
    {
      "cell_type": "markdown",
      "source": [
        "##Taking an arbitary value of w & b, calculate the ```f[w,b](x) = w(x) + b```"
      ],
      "metadata": {
        "id": "Ue5qFAfdfrG-"
      }
    },
    {
      "cell_type": "code",
      "source": [
        "w = 100\n",
        "b = 100\n",
        "\n",
        "def compute_model_prediction(w,b,x):\n",
        "\n",
        "    m = x.shape[0]\n",
        "    f_wb = np.zeros(m)\n",
        "\n",
        "    for i in range(m):\n",
        "      f_wb[i] = w*x[i] + b\n",
        "\n",
        "    return f_wb\n"
      ],
      "metadata": {
        "id": "HEavjACn6K6U"
      },
      "execution_count": 19,
      "outputs": []
    },
    {
      "cell_type": "markdown",
      "source": [
        "##Plot the datapoints as well as the model prediction together"
      ],
      "metadata": {
        "id": "T-HcRgbRgHrZ"
      }
    },
    {
      "cell_type": "code",
      "source": [
        "model = compute_model_prediction(w,b,x_train)\n",
        "\n",
        "# creates a line plot\n",
        "plt.plot(x_train,model,c='b', label='Our prediction')\n",
        "plt.scatter(x_train,y_train, c='r', marker = 'x', label='Actual Values')\n",
        "plt.title('Housing Prices')\n",
        "plt.xlabel('Size')\n",
        "plt.ylabel('Price')\n",
        "plt.legend()\n",
        "plt.show()"
      ],
      "metadata": {
        "colab": {
          "base_uri": "https://localhost:8080/",
          "height": 472
        },
        "id": "sAVebEIs69Ag",
        "outputId": "f28204cd-d419-43d8-83c2-439f7f735a1e"
      },
      "execution_count": 26,
      "outputs": [
        {
          "output_type": "display_data",
          "data": {
            "text/plain": [
              "<Figure size 640x480 with 1 Axes>"
            ],
            "image/png": "[encoded data removed]"
          },
          "metadata": {}
        }
      ]
    },
    {
      "cell_type": "markdown",
      "source": [],
      "metadata": {
        "id": "ydiIaaVYeNdr"
      }
    },
    {
      "cell_type": "markdown",
      "source": [],
      "metadata": {
        "id": "sgHEvIT1eIL4"
      }
    },
    {
      "cell_type": "code",
      "source": [],
      "metadata": {
        "id": "WsXWjhECdrt-"
      },
      "execution_count": 5,
      "outputs": []
    },
    {
      "cell_type": "markdown",
      "source": [
        "# Coding Exercise 1: Importing and Preprocessing a Dataset for Machine Learning"
      ],
      "metadata": {
        "id": "4qpPs5u-axGT"
      }
    },
    {
      "cell_type": "code",
      "source": [
        "#Importing the libraries\n",
        "import pandas as pd\n",
        "import numpy as np\n",
        "from sklearn.model_selection import train_test_split\n"
      ],
      "metadata": {
        "id": "5ilnwa8e7w61"
      },
      "execution_count": null,
      "outputs": []
    },
    {
      "cell_type": "code",
      "source": [
        "#importing the dataset(iris)\n",
        "dataset = pd.read_csv('Iris.csv')"
      ],
      "metadata": {
        "id": "G11hR0IRdUSH"
      },
      "execution_count": null,
      "outputs": []
    },
    {
      "cell_type": "code",
      "source": [
        "#Creating the matrix of features (X) and the dependent variable vector (y)\n",
        "#features (independent variables) in the Iris dataset are the lengths and widths\n",
        "#of the petals and sepals, and the dependent variable is the species of the Iris.\n",
        "X = dataset.iloc[:, :-1].values\n",
        "y = dataset.iloc[:, -1].values\n"
      ],
      "metadata": {
        "id": "GJZUp4tMeaEq"
      },
      "execution_count": null,
      "outputs": []
    },
    {
      "cell_type": "code",
      "source": [
        "print(X)\n",
        "print(y)"
      ],
      "metadata": {
        "id": "9S3zkQvyhNSI"
      },
      "execution_count": null,
      "outputs": []
    },
    {
      "cell_type": "markdown",
      "source": [
        "#Coding Exercise 2: Handling Missing Data in a Dataset for Machine Learning"
      ],
      "metadata": {
        "id": "HvS4hFEtB_a8"
      }
    },
    {
      "cell_type": "code",
      "source": [
        "from sklearn.impute import SimpleImputer\n",
        "datasetDiabetes = pd.read_csv('diabetes.csv')\n",
        "\n"
      ],
      "metadata": {
        "id": "fVFj13rLCMQI"
      },
      "execution_count": null,
      "outputs": []
    },
    {
      "cell_type": "code",
      "source": [],
      "metadata": {
        "id": "XObvZke0DFuO"
      },
      "execution_count": null,
      "outputs": []
    }
  ]
}